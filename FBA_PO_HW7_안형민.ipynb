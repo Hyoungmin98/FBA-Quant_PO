{
 "cells": [
  {
   "cell_type": "markdown",
   "id": "f760fbbd",
   "metadata": {},
   "source": [
    "# 전편\n",
    "\n",
    "## 서론 \n",
    "\n",
    "- Eugene Fama 와 Kenneth French 교수의 3팩터 모델은 그동안 CAPM 이론에만 머물러 있던 학계가 다양한 팩터 모델을 본격적으로 연구하게 되는 계기가 되었다.  \n",
    "- \"The Cross-Section of Expected Stock Returns\" : 전통적인 CAPM 모델 상에서의 베타가 실제로는 주가 결정력이 없다는 것을 보여줌, 사이즈와 BE/ME변수가 주가수익률을 더 잘 설명하는 변수라고 주장  \n",
    "- \"Common risk factors in the returns on stocks and bonds\" : SMB, HML 리스크 프리미엄 도출  \n",
    "\n",
    "## The Cross-Section of Expected Stock Returns\n",
    "\n",
    "- Sharpe, Lintner, Black의 자산가격 결정 모형에서 시장 포트폴리오의 효율성은 1)주식에 대한 기대수익률이 시장 베타에 의한 양의 선형함수라는 것과 2)시장 베타가 기대수익률의 횡단면을 설명하는 데 충분하다는 것을 의미  \n",
    "\n",
    "1963-1990년 표본기간  \n",
    "- 베타가 평균주가수익률의 횡단면을 설명하는데 도움을 주지 않아 보임  \n",
    "- 사이즈와 BE/ME의 결합이 평균수익률에 대한 레버리지와 E/P의 역할을 흡수하는 것처럼 보임  \n",
    "\n",
    "※ 예비절차  \n",
    "\n",
    "데이터 분석은 NYSE, AMEX, NASDAQ의 주식 중 비금융회사만을 대상으로 함  \n",
    "→ 금융회사와 비금융회사의 레버리지 비율값이 크게 다름으로 인해 결과 해석의 왜곡이 일어나는 것을 방지\n",
    "\n",
    "회귀분석 작업을 위해서 주식별로 사이즈. E/P, 레버리지, BE/ME, 베타 등 활용  \n",
    "→ 다른 변수들은 답이 명확한 반면 주식별 베타 수치는 별도의 계산 필요  \n",
    "\n",
    "실제 회귀분석에서 사용되는 베타는 post-ranking 베타  \n",
    "\n",
    "- post-ranking 베타 계산 방법  \n",
    "\n",
    "1. 주식을 시가총액 순으로 정렬하여 10분위 기준점을 잡는다.  \n",
    "2. 각 사이즈 포트폴리오 내에서 주식을 pre-ranking 베타 순으로 정렬해 10분위 기준점을 잡는다.  \n",
    "3. 포트폴리오의 당월 수익률을 시장의 당월 수익률과 전월 수익률로 회귀분석 하여 나온 기울기 2개를 합친 수치를 최종 베타로 사용.  \n",
    "\n",
    "$r_{p,t} = \\beta_0 + \\beta_1*r_{m,t-1} + \\beta_2*r_{m,t} + \\epsilon_p$  \n",
    "($\\hat{\\beta_p} = \\hat{\\beta_1} + \\hat{\\beta_2}$)  \n",
    "\n",
    "※ Table 1  \n",
    "\n",
    "- 사이즈와 pre-ranking 베타를 사용하여 10x10 포트폴리오를 만들었을 때  각 포트폴리오의 평균수익률, post-ranking 베타, 평균사이즈 계산  \n",
    "- CAPM이론과는 다르게 사이즈를 고정했을 때 베타가 주가수익률에 영향을 끼치지 못한다\n",
    "\n",
    "※ Table 2\n",
    "\n",
    "- 사이즈로만 포트폴리오를 구성하거나 pre-ranking 베타로만 포트폴리오를 구성했을 때 포트폴리오 별로 수익률, 베타, 사이즈 등의 평균값 도출\n",
    "\n",
    "- 사이즈 단독으로만 형성한 포트폴리오에서는 사이즈와 평균수익률 간에 강한 역상관성이, 평균수익률과 베타 간에는 강한 정상관성이 존재함을 관찰할 수 있음. → 이는 사이즈 포트폴리오 내에서 사이즈와 베타 간의 밀접한 관계에 의해 왜곡된 결과  \n",
    "- 개별 주식의 시장 베타 기준으로 형성된 포트폴리오들 간에는 평균수익률 차이가 거의 없으며 베타와 평균수익률 간에 뚜렷한 연관성이 없음  \n",
    "- 사이즈 변수와 주식 수익률 간에는 강한 연관성이 있지만, 베타와 주식 수익률 간에는 강한 연관성이 없다.  \n",
    "\n",
    "※ Table 3  \n",
    "\n",
    "- 주가수익률의 횡단면 변화를 여러 설명변수들의 조합으로 회귀분석 실시(Fama-MacBeth 회귀분석 활용)\n",
    "→ 수익률을 사이즈에 대해 월별 단순회귀분석: t-통계량 -2.58, 수익률을 베타에 대해 단순회귀분석: t-통계량 0.46  \n",
    "→ 수익률을 사이즈와 베타 두 변수에 대해 회귀분석: 사이즈의 t-통계량 -3.41, 베타의 t-통계량 -1.21  \n",
    "- 평균수익률의 횡단면을 분석하는 데에 있어서 베타는 설명력이 없고 사이즈는 설명력이 있다고 결론내림 \n",
    "\n",
    "\n"
   ]
  }
 ],
 "metadata": {
  "kernelspec": {
   "display_name": "Python 3 (ipykernel)",
   "language": "python",
   "name": "python3"
  },
  "language_info": {
   "codemirror_mode": {
    "name": "ipython",
    "version": 3
   },
   "file_extension": ".py",
   "mimetype": "text/x-python",
   "name": "python",
   "nbconvert_exporter": "python",
   "pygments_lexer": "ipython3",
   "version": "3.11.4"
  }
 },
 "nbformat": 4,
 "nbformat_minor": 5
}
